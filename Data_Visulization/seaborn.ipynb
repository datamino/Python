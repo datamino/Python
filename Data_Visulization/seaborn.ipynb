{
 "cells": [
  {
   "cell_type": "markdown",
   "metadata": {},
   "source": [
    "# **Seaborn**"
   ]
  },
  {
   "cell_type": "markdown",
   "metadata": {},
   "source": [
    "### **What is Seaborn?** \n",
    "\n",
    "- Seaborn is a python data visulaization library built on top of the matplotlib and closely integrated with pandas data structures in python.\n",
    "- In Matplotlib we can make simple plots easily but in Seaborn it provides extra features to make advance plots easily. \n",
    "- Dependency of Seaborn is \n",
    "\n",
    "     ➤ **Pandas.** \\\n",
    "     ➤ **Numpy.** \\\n",
    "     ➤ **Scipy.** \\\n",
    "     ➤ **Matplotlib.**\n",
    "  \n",
    "### **Types of Plots in Matplotlib.**\n",
    "\n",
    "➤ **Customizing with Matplotlib.** \\\n",
    "➤ **Linear Plot.** \\\n",
    "➤ **Scatter Plot.** \\\n",
    "➤ **Bar Plot.** \\\n",
    "➤ **Voilin Plot.** \\\n",
    "➤ **Swarm Plot.** \\\n",
    "➤ **Hist Plot.** \\\n",
    "➤ **Box Plot.** \\\n",
    "➤ **Pie Plot.** \\\n",
    "➤ **Factor Plot.** \\\n",
    "➤ **Density Plot.** \\\n",
    "➤ **Overlying Plot.** \\\n",
    "➤ **Join Distribution Plot.** \\\n",
    "➤ **Heatmap.** "
   ]
  },
  {
   "cell_type": "markdown",
   "metadata": {},
   "source": [
    "# **Line Plot**"
   ]
  },
  {
   "cell_type": "code",
   "execution_count": 9,
   "metadata": {},
   "outputs": [],
   "source": [
    "import pandas as pd\n",
    "import numpy as np\n",
    "import matplotlib.pyplot as plt\n",
    "import seaborn as sns"
   ]
  }
 ],
 "metadata": {
  "kernelspec": {
   "display_name": "python_eda",
   "language": "python",
   "name": "python3"
  },
  "language_info": {
   "codemirror_mode": {
    "name": "ipython",
    "version": 3
   },
   "file_extension": ".py",
   "mimetype": "text/x-python",
   "name": "python",
   "nbconvert_exporter": "python",
   "pygments_lexer": "ipython3",
   "version": "3.11.0"
  }
 },
 "nbformat": 4,
 "nbformat_minor": 2
}
